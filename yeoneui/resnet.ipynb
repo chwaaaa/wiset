{
  "nbformat": 4,
  "nbformat_minor": 0,
  "metadata": {
    "colab": {
      "name": "yeoneui.ipynb",
      "provenance": [],
      "collapsed_sections": [],
      "include_colab_link": true
    },
    "kernelspec": {
      "name": "python3",
      "display_name": "Python 3"
    },
    "language_info": {
      "name": "python"
    },
    "accelerator": "GPU",
    "widgets": {
      "application/vnd.jupyter.widget-state+json": {
        "98727ff727f74cf1ab67b377b4d4130d": {
          "model_module": "@jupyter-widgets/controls",
          "model_name": "HBoxModel",
          "model_module_version": "1.5.0",
          "state": {
            "_view_name": "HBoxView",
            "_dom_classes": [],
            "_model_name": "HBoxModel",
            "_view_module": "@jupyter-widgets/controls",
            "_model_module_version": "1.5.0",
            "_view_count": null,
            "_view_module_version": "1.5.0",
            "box_style": "",
            "layout": "IPY_MODEL_d9e5a07226aa426dad50927c94a1fdf2",
            "_model_module": "@jupyter-widgets/controls",
            "children": [
              "IPY_MODEL_1663e4f30299412a8dad77c91da9151e",
              "IPY_MODEL_16e5b192a09c42dfbc525a782fc39033",
              "IPY_MODEL_b70ca0a92d514398b516c2cd8eeb718e"
            ]
          }
        },
        "d9e5a07226aa426dad50927c94a1fdf2": {
          "model_module": "@jupyter-widgets/base",
          "model_name": "LayoutModel",
          "model_module_version": "1.2.0",
          "state": {
            "_view_name": "LayoutView",
            "grid_template_rows": null,
            "right": null,
            "justify_content": null,
            "_view_module": "@jupyter-widgets/base",
            "overflow": null,
            "_model_module_version": "1.2.0",
            "_view_count": null,
            "flex_flow": null,
            "width": null,
            "min_width": null,
            "border": null,
            "align_items": null,
            "bottom": null,
            "_model_module": "@jupyter-widgets/base",
            "top": null,
            "grid_column": null,
            "overflow_y": null,
            "overflow_x": null,
            "grid_auto_flow": null,
            "grid_area": null,
            "grid_template_columns": null,
            "flex": null,
            "_model_name": "LayoutModel",
            "justify_items": null,
            "grid_row": null,
            "max_height": null,
            "align_content": null,
            "visibility": null,
            "align_self": null,
            "height": null,
            "min_height": null,
            "padding": null,
            "grid_auto_rows": null,
            "grid_gap": null,
            "max_width": null,
            "order": null,
            "_view_module_version": "1.2.0",
            "grid_template_areas": null,
            "object_position": null,
            "object_fit": null,
            "grid_auto_columns": null,
            "margin": null,
            "display": null,
            "left": null
          }
        },
        "1663e4f30299412a8dad77c91da9151e": {
          "model_module": "@jupyter-widgets/controls",
          "model_name": "HTMLModel",
          "model_module_version": "1.5.0",
          "state": {
            "_view_name": "HTMLView",
            "style": "IPY_MODEL_8d6d3e5104254657b8d00434a2911884",
            "_dom_classes": [],
            "description": "",
            "_model_name": "HTMLModel",
            "placeholder": "​",
            "_view_module": "@jupyter-widgets/controls",
            "_model_module_version": "1.5.0",
            "value": "100%",
            "_view_count": null,
            "_view_module_version": "1.5.0",
            "description_tooltip": null,
            "_model_module": "@jupyter-widgets/controls",
            "layout": "IPY_MODEL_5614216427c8453785cdb0f4fcec6f3e"
          }
        },
        "16e5b192a09c42dfbc525a782fc39033": {
          "model_module": "@jupyter-widgets/controls",
          "model_name": "FloatProgressModel",
          "model_module_version": "1.5.0",
          "state": {
            "_view_name": "ProgressView",
            "style": "IPY_MODEL_88fd7bc14a864c1cabb6ecc87897c04d",
            "_dom_classes": [],
            "description": "",
            "_model_name": "FloatProgressModel",
            "bar_style": "success",
            "max": 102530333,
            "_view_module": "@jupyter-widgets/controls",
            "_model_module_version": "1.5.0",
            "value": 102530333,
            "_view_count": null,
            "_view_module_version": "1.5.0",
            "orientation": "horizontal",
            "min": 0,
            "description_tooltip": null,
            "_model_module": "@jupyter-widgets/controls",
            "layout": "IPY_MODEL_a28dacf15b1b4831af5a77772cce3478"
          }
        },
        "b70ca0a92d514398b516c2cd8eeb718e": {
          "model_module": "@jupyter-widgets/controls",
          "model_name": "HTMLModel",
          "model_module_version": "1.5.0",
          "state": {
            "_view_name": "HTMLView",
            "style": "IPY_MODEL_28dd328189444622a4542f153b4cb568",
            "_dom_classes": [],
            "description": "",
            "_model_name": "HTMLModel",
            "placeholder": "​",
            "_view_module": "@jupyter-widgets/controls",
            "_model_module_version": "1.5.0",
            "value": " 97.8M/97.8M [00:00&lt;00:00, 117MB/s]",
            "_view_count": null,
            "_view_module_version": "1.5.0",
            "description_tooltip": null,
            "_model_module": "@jupyter-widgets/controls",
            "layout": "IPY_MODEL_896a751272df43a0b9f7ccd8820f546e"
          }
        },
        "8d6d3e5104254657b8d00434a2911884": {
          "model_module": "@jupyter-widgets/controls",
          "model_name": "DescriptionStyleModel",
          "model_module_version": "1.5.0",
          "state": {
            "_view_name": "StyleView",
            "_model_name": "DescriptionStyleModel",
            "description_width": "",
            "_view_module": "@jupyter-widgets/base",
            "_model_module_version": "1.5.0",
            "_view_count": null,
            "_view_module_version": "1.2.0",
            "_model_module": "@jupyter-widgets/controls"
          }
        },
        "5614216427c8453785cdb0f4fcec6f3e": {
          "model_module": "@jupyter-widgets/base",
          "model_name": "LayoutModel",
          "model_module_version": "1.2.0",
          "state": {
            "_view_name": "LayoutView",
            "grid_template_rows": null,
            "right": null,
            "justify_content": null,
            "_view_module": "@jupyter-widgets/base",
            "overflow": null,
            "_model_module_version": "1.2.0",
            "_view_count": null,
            "flex_flow": null,
            "width": null,
            "min_width": null,
            "border": null,
            "align_items": null,
            "bottom": null,
            "_model_module": "@jupyter-widgets/base",
            "top": null,
            "grid_column": null,
            "overflow_y": null,
            "overflow_x": null,
            "grid_auto_flow": null,
            "grid_area": null,
            "grid_template_columns": null,
            "flex": null,
            "_model_name": "LayoutModel",
            "justify_items": null,
            "grid_row": null,
            "max_height": null,
            "align_content": null,
            "visibility": null,
            "align_self": null,
            "height": null,
            "min_height": null,
            "padding": null,
            "grid_auto_rows": null,
            "grid_gap": null,
            "max_width": null,
            "order": null,
            "_view_module_version": "1.2.0",
            "grid_template_areas": null,
            "object_position": null,
            "object_fit": null,
            "grid_auto_columns": null,
            "margin": null,
            "display": null,
            "left": null
          }
        },
        "88fd7bc14a864c1cabb6ecc87897c04d": {
          "model_module": "@jupyter-widgets/controls",
          "model_name": "ProgressStyleModel",
          "model_module_version": "1.5.0",
          "state": {
            "_view_name": "StyleView",
            "_model_name": "ProgressStyleModel",
            "description_width": "",
            "_view_module": "@jupyter-widgets/base",
            "_model_module_version": "1.5.0",
            "_view_count": null,
            "_view_module_version": "1.2.0",
            "bar_color": null,
            "_model_module": "@jupyter-widgets/controls"
          }
        },
        "a28dacf15b1b4831af5a77772cce3478": {
          "model_module": "@jupyter-widgets/base",
          "model_name": "LayoutModel",
          "model_module_version": "1.2.0",
          "state": {
            "_view_name": "LayoutView",
            "grid_template_rows": null,
            "right": null,
            "justify_content": null,
            "_view_module": "@jupyter-widgets/base",
            "overflow": null,
            "_model_module_version": "1.2.0",
            "_view_count": null,
            "flex_flow": null,
            "width": null,
            "min_width": null,
            "border": null,
            "align_items": null,
            "bottom": null,
            "_model_module": "@jupyter-widgets/base",
            "top": null,
            "grid_column": null,
            "overflow_y": null,
            "overflow_x": null,
            "grid_auto_flow": null,
            "grid_area": null,
            "grid_template_columns": null,
            "flex": null,
            "_model_name": "LayoutModel",
            "justify_items": null,
            "grid_row": null,
            "max_height": null,
            "align_content": null,
            "visibility": null,
            "align_self": null,
            "height": null,
            "min_height": null,
            "padding": null,
            "grid_auto_rows": null,
            "grid_gap": null,
            "max_width": null,
            "order": null,
            "_view_module_version": "1.2.0",
            "grid_template_areas": null,
            "object_position": null,
            "object_fit": null,
            "grid_auto_columns": null,
            "margin": null,
            "display": null,
            "left": null
          }
        },
        "28dd328189444622a4542f153b4cb568": {
          "model_module": "@jupyter-widgets/controls",
          "model_name": "DescriptionStyleModel",
          "model_module_version": "1.5.0",
          "state": {
            "_view_name": "StyleView",
            "_model_name": "DescriptionStyleModel",
            "description_width": "",
            "_view_module": "@jupyter-widgets/base",
            "_model_module_version": "1.5.0",
            "_view_count": null,
            "_view_module_version": "1.2.0",
            "_model_module": "@jupyter-widgets/controls"
          }
        },
        "896a751272df43a0b9f7ccd8820f546e": {
          "model_module": "@jupyter-widgets/base",
          "model_name": "LayoutModel",
          "model_module_version": "1.2.0",
          "state": {
            "_view_name": "LayoutView",
            "grid_template_rows": null,
            "right": null,
            "justify_content": null,
            "_view_module": "@jupyter-widgets/base",
            "overflow": null,
            "_model_module_version": "1.2.0",
            "_view_count": null,
            "flex_flow": null,
            "width": null,
            "min_width": null,
            "border": null,
            "align_items": null,
            "bottom": null,
            "_model_module": "@jupyter-widgets/base",
            "top": null,
            "grid_column": null,
            "overflow_y": null,
            "overflow_x": null,
            "grid_auto_flow": null,
            "grid_area": null,
            "grid_template_columns": null,
            "flex": null,
            "_model_name": "LayoutModel",
            "justify_items": null,
            "grid_row": null,
            "max_height": null,
            "align_content": null,
            "visibility": null,
            "align_self": null,
            "height": null,
            "min_height": null,
            "padding": null,
            "grid_auto_rows": null,
            "grid_gap": null,
            "max_width": null,
            "order": null,
            "_view_module_version": "1.2.0",
            "grid_template_areas": null,
            "object_position": null,
            "object_fit": null,
            "grid_auto_columns": null,
            "margin": null,
            "display": null,
            "left": null
          }
        }
      }
    }
  },
  "cells": [
    {
      "cell_type": "markdown",
      "metadata": {
        "id": "view-in-github",
        "colab_type": "text"
      },
      "source": [
        "<a href=\"https://colab.research.google.com/github/yeonee21/wiset/blob/main/yeoneui.ipynb\" target=\"_parent\"><img src=\"https://colab.research.google.com/assets/colab-badge.svg\" alt=\"Open In Colab\"/></a>"
      ]
    },
    {
      "cell_type": "code",
      "metadata": {
        "colab": {
          "base_uri": "https://localhost:8080/"
        },
        "id": "MECiAPs24bin",
        "outputId": "ed19b163-0210-46a6-8907-3d5067c8df77"
      },
      "source": [
        "from google.colab import drive\n",
        "\n",
        "drive.mount('/content/gdrive', force_remount=True)\n",
        "\n",
        "%ls"
      ],
      "execution_count": null,
      "outputs": [
        {
          "output_type": "stream",
          "text": [
            "Mounted at /content/gdrive\n",
            "\u001b[0m\u001b[01;34mgdrive\u001b[0m/  \u001b[01;34msample_data\u001b[0m/\n"
          ],
          "name": "stdout"
        }
      ]
    },
    {
      "cell_type": "code",
      "metadata": {
        "colab": {
          "base_uri": "https://localhost:8080/"
        },
        "id": "-L802C0W5Eim",
        "outputId": "71933ce3-9010-49a4-9c5a-1eb7ffb272da"
      },
      "source": [
        "%cd gdrive/MyDrive/WISET/CTdata/"
      ],
      "execution_count": null,
      "outputs": [
        {
          "output_type": "stream",
          "text": [
            "/content/gdrive/.shortcut-targets-by-id/1sB94h0sAduKeY-hI07CG62N6awnEfPLD/WISET/CTdata\n"
          ],
          "name": "stdout"
        }
      ]
    },
    {
      "cell_type": "code",
      "metadata": {
        "id": "oH1DhFn5v2u6"
      },
      "source": [
        "#!unzip CT_NonCOVID.zip\n",
        "#!unzip CT_COVID.zip"
      ],
      "execution_count": null,
      "outputs": []
    },
    {
      "cell_type": "code",
      "metadata": {
        "id": "sTvx9vk0EjrO"
      },
      "source": [
        "import torch\n",
        "import torchvision\n",
        "import torch.nn as nn\n",
        "import torch.nn.functional as F\n",
        "\n",
        "import torch.utils.data\n",
        "import torchvision.transforms as transforms\n",
        "from torchvision.datasets import ImageFolder\n",
        "\n",
        "from torch.autograd import Variable\n",
        "\n",
        "import cv2\n",
        "import os\n",
        "import math\n",
        "\n",
        "from sklearn.model_selection import train_test_split\n",
        "\n"
      ],
      "execution_count": null,
      "outputs": []
    },
    {
      "cell_type": "code",
      "metadata": {
        "colab": {
          "base_uri": "https://localhost:8080/"
        },
        "id": "kH1fJh3myaHV",
        "outputId": "3766c964-9aad-4195-b1ec-d6907fcf5241"
      },
      "source": [
        "%ls"
      ],
      "execution_count": null,
      "outputs": [
        {
          "output_type": "stream",
          "text": [
            "CT_COVID.zip  CT_NonCOVID.zip  \u001b[0m\u001b[01;34mData-split\u001b[0m/          \u001b[01;34m__MACOSX\u001b[0m/\n",
            "\u001b[01;34mCTData\u001b[0m/       CT_resnet50.pt   \u001b[01;34mJCS_COVID-19-CT100\u001b[0m/  \u001b[01;34mSplitted\u001b[0m/\n"
          ],
          "name": "stdout"
        }
      ]
    },
    {
      "cell_type": "code",
      "metadata": {
        "id": "RqDvVLuCic8I"
      },
      "source": [
        "# Image transforms\n",
        "resnet_trans = { \n",
        "    'train': transforms.Compose([\n",
        "                            transforms.Resize([64,64]),\n",
        "                            transforms.RandomHorizontalFlip(),\n",
        "                            transforms.RandomVerticalFlip(),\n",
        "                            transforms.ToTensor(),\n",
        "                            transforms.Normalize([0.485, 0.456, 0.406],\n",
        "                                                 [0.229, 0.224, 0.225])]),\n",
        "    'val': transforms.Compose([\n",
        "                            transforms.Resize([64,64]),\n",
        "                            transforms.ToTensor(),\n",
        "                            transforms.Normalize([0.485, 0.456, 0.406],\n",
        "                                                 [0.229, 0.224, 0.225])])\n",
        "}\n"
      ],
      "execution_count": null,
      "outputs": []
    },
    {
      "cell_type": "code",
      "metadata": {
        "id": "RWTbDMEhuRYI"
      },
      "source": [
        "USE_CUDA = torch.cuda.is_available()\n",
        "DEVICE = torch.device('cuda' if USE_CUDA else 'cpu')\n",
        "\n",
        "BATCH_SIZE = 32\n",
        "EPOCH =30\n",
        "\n"
      ],
      "execution_count": null,
      "outputs": []
    },
    {
      "cell_type": "markdown",
      "metadata": {
        "id": "rBwSDqDD2aj7"
      },
      "source": [
        "1. data 분할을 위한 폴더 생성(train, val, test)\n",
        "2. 생성한 train,val,test 폴더에 비율에 맞게 이미지를 복사해서 저장"
      ]
    },
    {
      "cell_type": "code",
      "metadata": {
        "id": "1u3ylMwQwnOL",
        "colab": {
          "base_uri": "https://localhost:8080/"
        },
        "outputId": "086f31d7-5591-4c14-e879-b7b42c3b8e39"
      },
      "source": [
        "import shutil\n",
        "\n",
        "original_data_dir = '/content/gdrive/MyDrive/WISET/CTdata/CTData'\n",
        "classes = os.listdir(original_data_dir)\n",
        "\n",
        "base_dir = '/content/gdrive/MyDrive/WISET/CTdata/Splitted'\n",
        "os.mkdir(base_dir)\n",
        "\n",
        "train_dir = os.path.join(base_dir, 'train')\n",
        "os.mkdir(train_dir)\n",
        "val_dir = os.path.join(base_dir, 'val')\n",
        "os.mkdir(val_dir)\n",
        "test_dir = os.path.join(base_dir, 'test')\n",
        "os.mkdir(test_dir)\n",
        "\n",
        "for c in classes:\n",
        "  os.mkdir(os.path.join(train_dir, c))\n",
        "  os.mkdir(os.path.join(val_dir, c))\n",
        "  os.mkdir(os.path.join(test_dir, c))\n",
        "\n",
        "\n",
        "# data 분할 train:val:test = 0.6: 0.2: 0.2\n",
        "for c in classes:\n",
        "  path = os.path.join(original_data_dir, c)\n",
        "  files = os.listdir(path)\n",
        "\n",
        "  train_size = math.floor(len(files)*0.6)\n",
        "  val_size = math.floor(len(files)*0.2)\n",
        "  test_size = math.floor(len(files)*0.2)\n",
        "\n",
        "  train_file = files[:train_size]\n",
        "  print('Train size(',c,'):', len(train_file))\n",
        "  # Train data를 새로운 파일 'train'에 복사해서 저장\n",
        "  # src 경로의 파일을 dst 경로의 파일에 저장\n",
        "  for fname in train_file:\n",
        "    src = os.path.join(path, fname)\n",
        "    dst = os.path.join(os.path.join(train_dir, c), fname)\n",
        "    shutil.copyfile(src, dst)\n",
        "  \n",
        "  val_file = files[train_size:(val_size + train_size)]\n",
        "  print('Validation size(',c,'):', len(val_file))\n",
        "  # Validation data를 새로운 파일'val'에 복사해서 저장\n",
        "  for fname in val_file:\n",
        "    src = os.path.join(path, fname)\n",
        "    dst = os.path.join(os.path.join(val_dir, c), fname)\n",
        "    shutil.copyfile(src, dst)\n",
        "  \n",
        "  test_file = files[(train_size + val_size):(val_size + train_size + test_size)]\n",
        "  print('Test size(',c,'):', len(test_file))\n",
        "  # Test data를 새로운 파일'test'에 복사해서 저장\n",
        "  for fname in test_file:\n",
        "    src = os.path.join(path, fname)\n",
        "    dst = os.path.join(os.path.join(test_dir, c), fname)\n",
        "    shutil.copyfile(src, dst)\n",
        "\n"
      ],
      "execution_count": null,
      "outputs": [
        {
          "output_type": "stream",
          "text": [
            "Train size( CT_NonCOVID ): 238\n",
            "Validation size( CT_NonCOVID ): 79\n",
            "Test size( CT_NonCOVID ): 79\n",
            "Train size( CT_COVID ): 210\n",
            "Validation size( CT_COVID ): 70\n",
            "Test size( CT_COVID ): 70\n"
          ],
          "name": "stdout"
        }
      ]
    },
    {
      "cell_type": "code",
      "metadata": {
        "colab": {
          "base_uri": "https://localhost:8080/"
        },
        "id": "vnkilAlflkGq",
        "outputId": "dd424347-7a83-43c3-9919-edd66a280a52"
      },
      "source": [
        "data_dir = '/content/gdrive/MyDrive/WISET/CTdata/Splitted'\n",
        "mode = os.listdir(data_dir)\n",
        "\n",
        "for m in mode:\n",
        "  path1 = os.path.join(data_dir, m)\n",
        "  classes = os.listdir(path1)\n",
        "  for c in classes:\n",
        "    path2 = os.path.join(path1, c)\n",
        "    files = os.listdir(path2)\n",
        "    print(m, 'data size(', c, '): ',len(files))"
      ],
      "execution_count": null,
      "outputs": [
        {
          "output_type": "stream",
          "text": [
            "train data size( CT_NonCOVID ):  238\n",
            "train data size( CT_COVID ):  210\n",
            "val data size( CT_NonCOVID ):  79\n",
            "val data size( CT_COVID ):  70\n",
            "test data size( CT_NonCOVID ):  79\n",
            "test data size( CT_COVID ):  70\n"
          ],
          "name": "stdout"
        }
      ]
    },
    {
      "cell_type": "markdown",
      "metadata": {
        "id": "BTmE14KD4f8u"
      },
      "source": [
        "# 데이터 불러오기"
      ]
    },
    {
      "cell_type": "code",
      "metadata": {
        "id": "3xRMjzQ7Gk99",
        "colab": {
          "base_uri": "https://localhost:8080/"
        },
        "outputId": "975122c0-20ef-414c-bb6e-c53720bda1a0"
      },
      "source": [
        "# Create training and validation datasets\n",
        "image_datasets = {x: ImageFolder(os.path.join(base_dir, x), transform = resnet_trans[x]) for x in ['train', 'val']}\n",
        "# Create training and validation dataloaders\n",
        "dataloaders_dict = {x: torch.utils.data.DataLoader(image_datasets[x], batch_size=BATCH_SIZE, shuffle=True, num_workers=4) for x in ['train', 'val']}\n",
        "\n",
        "dataset_sizes = { x: len(image_datasets[x]) for x in ['train', 'val']}\n",
        "class_names = image_datasets['train'].classes\n",
        "\n",
        "print('Datasize:', dataset_sizes)\n",
        "print('Class: ', class_names)"
      ],
      "execution_count": null,
      "outputs": [
        {
          "output_type": "stream",
          "text": [
            "Datasize: {'train': 448, 'val': 597}\n",
            "Class:  ['CT_COVID', 'CT_NonCOVID']\n"
          ],
          "name": "stdout"
        },
        {
          "output_type": "stream",
          "text": [
            "/usr/local/lib/python3.7/dist-packages/torch/utils/data/dataloader.py:481: UserWarning: This DataLoader will create 4 worker processes in total. Our suggested max number of worker in current system is 2, which is smaller than what this DataLoader is going to create. Please be aware that excessive worker creation might get DataLoader running slow or even freeze, lower the worker number to avoid potential slowness/freeze if necessary.\n",
            "  cpuset_checked))\n"
          ],
          "name": "stderr"
        }
      ]
    },
    {
      "cell_type": "markdown",
      "metadata": {
        "id": "uwYJY_vF8yVY"
      },
      "source": [
        "# Pre-Trained Model 불러오기\n",
        "\n",
        "CTdata -> 작은 데이터셋, pre-trained model의 데이터셋과 상이\n",
        "따라서 일부 레이어만 훈련시키는 finetuning"
      ]
    },
    {
      "cell_type": "code",
      "metadata": {
        "colab": {
          "base_uri": "https://localhost:8080/",
          "height": 86,
          "referenced_widgets": [
            "98727ff727f74cf1ab67b377b4d4130d",
            "d9e5a07226aa426dad50927c94a1fdf2",
            "1663e4f30299412a8dad77c91da9151e",
            "16e5b192a09c42dfbc525a782fc39033",
            "b70ca0a92d514398b516c2cd8eeb718e",
            "8d6d3e5104254657b8d00434a2911884",
            "5614216427c8453785cdb0f4fcec6f3e",
            "88fd7bc14a864c1cabb6ecc87897c04d",
            "a28dacf15b1b4831af5a77772cce3478",
            "28dd328189444622a4542f153b4cb568",
            "896a751272df43a0b9f7ccd8820f546e"
          ]
        },
        "id": "8eQXl6DH8wGq",
        "outputId": "e93151a2-ed1e-4b84-818e-13003da3e8d1"
      },
      "source": [
        "import torch.optim as optim\n",
        "from torch.optim import lr_scheduler\n",
        "from torchvision import models\n",
        "\n",
        "resnet = models.resnet50(pretrained=True)\n",
        "num_ftrs = resnet.fc.in_features\n",
        "resnet.fc = nn.Linear(num_ftrs, 2)\n",
        "resnet = resnet.to(DEVICE)\n",
        "\n",
        "criterion = nn.CrossEntropyLoss()\n",
        "\n",
        "optimizer_ft = optim.Adam(filter(lambda p: p.requires_grad, resnet.parameters()), lr=0.001)\n",
        "\n",
        "# 7 epoch마다 0.1씩 곱해서 lr을 감소시킨다.\n",
        "exp_lr_scheduler = lr_scheduler.StepLR(optimizer_ft, step_size=7, gamma=0.1)\n",
        "\n",
        "# Pre-trained model 일부 layer freeze\n",
        "# Resnet의 10개 layer 중 5번째까지 고정하고 6~10 layer의 parameter는 update\n",
        "ct = 0\n",
        "for child in resnet.children():\n",
        "  ct +=1\n",
        "  if ct < 6:\n",
        "    for param in child.parameters():\n",
        "      param.requires_grad = False"
      ],
      "execution_count": null,
      "outputs": [
        {
          "output_type": "stream",
          "text": [
            "Downloading: \"https://download.pytorch.org/models/resnet50-0676ba61.pth\" to /root/.cache/torch/hub/checkpoints/resnet50-0676ba61.pth\n"
          ],
          "name": "stderr"
        },
        {
          "output_type": "display_data",
          "data": {
            "application/vnd.jupyter.widget-view+json": {
              "model_id": "98727ff727f74cf1ab67b377b4d4130d",
              "version_minor": 0,
              "version_major": 2
            },
            "text/plain": [
              "  0%|          | 0.00/97.8M [00:00<?, ?B/s]"
            ]
          },
          "metadata": {}
        }
      ]
    },
    {
      "cell_type": "code",
      "metadata": {
        "id": "MAyAtDTq6SaH"
      },
      "source": [
        "\n",
        "class RESNET50(nn.Module):\n",
        "  def __init__(self):\n",
        "    super(RESNET50, self).__init__()\n",
        "        \n",
        "    # get the pretrained resnet50 network\n",
        "    self.resnet = models.resnet50(pretrained=True)\n",
        "    \n",
        "    # disect the network to access its last convolutional layer\n",
        "    self.features_conv = self.resnet.features[:6]\n",
        "        \n",
        "    # get the max pool of the features stem\n",
        "    self.max_pool = nn.MaxPool2d(kernel_size=2, stride=2, padding=0, dilation=1, ceil_mode=False)\n",
        "        \n",
        "    # get the classifier of the resnet\n",
        "    self.classifier = self.resnet.classifier\n",
        "        \n",
        "    # placeholder for the gradients\n",
        "    self.gradients = None\n",
        "    \n",
        "  # hook for the gradients of the activations\n",
        "  def activations_hook(self, grad):\n",
        "    self.gradients = grad\n",
        "        \n",
        "  def forward(self, x):\n",
        "    x = self.features_conv(x)\n",
        "        \n",
        "    # register the hook\n",
        "    h = x.register_hook(self.activations_hook)\n",
        "        \n",
        "    # apply the remaining pooling\n",
        "    x = self.max_pool(x)\n",
        "    x = x.view((1, -1))\n",
        "    x = self.classifier(x)\n",
        "    return x\n",
        "    \n",
        "  # method for the gradient extraction\n",
        "  def get_activations_gradient(self):\n",
        "    return self.gradients\n",
        "    \n",
        "  # method for the activation exctraction\n",
        "  def get_activations(self, x):\n",
        "    return self.features_conv(x)\n",
        "\n"
      ],
      "execution_count": null,
      "outputs": []
    },
    {
      "cell_type": "code",
      "metadata": {
        "colab": {
          "base_uri": "https://localhost:8080/"
        },
        "id": "r-t_di4uFY5J",
        "outputId": "7aedf3ce-68e9-4c9c-d4f8-a2f087005373"
      },
      "source": [
        "# 모델의 state_dict 출력\n",
        "print(\"Model's state_dict:\")\n",
        "for param_tensor in resnet.state_dict():\n",
        "    print(param_tensor, \"\\t\", resnet.state_dict()[param_tensor].size())\n",
        "\n",
        "# 옵티마이저의 state_dict 출력\n",
        "print(\"Optimizer's state_dict:\")\n",
        "for var_name in optimizer_ft.state_dict():\n",
        "    print(var_name, \"\\t\", optimizer_ft.state_dict()[var_name])"
      ],
      "execution_count": null,
      "outputs": [
        {
          "output_type": "stream",
          "text": [
            "Model's state_dict:\n",
            "conv1.weight \t torch.Size([64, 3, 7, 7])\n",
            "bn1.weight \t torch.Size([64])\n",
            "bn1.bias \t torch.Size([64])\n",
            "bn1.running_mean \t torch.Size([64])\n",
            "bn1.running_var \t torch.Size([64])\n",
            "bn1.num_batches_tracked \t torch.Size([])\n",
            "layer1.0.conv1.weight \t torch.Size([64, 64, 1, 1])\n",
            "layer1.0.bn1.weight \t torch.Size([64])\n",
            "layer1.0.bn1.bias \t torch.Size([64])\n",
            "layer1.0.bn1.running_mean \t torch.Size([64])\n",
            "layer1.0.bn1.running_var \t torch.Size([64])\n",
            "layer1.0.bn1.num_batches_tracked \t torch.Size([])\n",
            "layer1.0.conv2.weight \t torch.Size([64, 64, 3, 3])\n",
            "layer1.0.bn2.weight \t torch.Size([64])\n",
            "layer1.0.bn2.bias \t torch.Size([64])\n",
            "layer1.0.bn2.running_mean \t torch.Size([64])\n",
            "layer1.0.bn2.running_var \t torch.Size([64])\n",
            "layer1.0.bn2.num_batches_tracked \t torch.Size([])\n",
            "layer1.0.conv3.weight \t torch.Size([256, 64, 1, 1])\n",
            "layer1.0.bn3.weight \t torch.Size([256])\n",
            "layer1.0.bn3.bias \t torch.Size([256])\n",
            "layer1.0.bn3.running_mean \t torch.Size([256])\n",
            "layer1.0.bn3.running_var \t torch.Size([256])\n",
            "layer1.0.bn3.num_batches_tracked \t torch.Size([])\n",
            "layer1.0.downsample.0.weight \t torch.Size([256, 64, 1, 1])\n",
            "layer1.0.downsample.1.weight \t torch.Size([256])\n",
            "layer1.0.downsample.1.bias \t torch.Size([256])\n",
            "layer1.0.downsample.1.running_mean \t torch.Size([256])\n",
            "layer1.0.downsample.1.running_var \t torch.Size([256])\n",
            "layer1.0.downsample.1.num_batches_tracked \t torch.Size([])\n",
            "layer1.1.conv1.weight \t torch.Size([64, 256, 1, 1])\n",
            "layer1.1.bn1.weight \t torch.Size([64])\n",
            "layer1.1.bn1.bias \t torch.Size([64])\n",
            "layer1.1.bn1.running_mean \t torch.Size([64])\n",
            "layer1.1.bn1.running_var \t torch.Size([64])\n",
            "layer1.1.bn1.num_batches_tracked \t torch.Size([])\n",
            "layer1.1.conv2.weight \t torch.Size([64, 64, 3, 3])\n",
            "layer1.1.bn2.weight \t torch.Size([64])\n",
            "layer1.1.bn2.bias \t torch.Size([64])\n",
            "layer1.1.bn2.running_mean \t torch.Size([64])\n",
            "layer1.1.bn2.running_var \t torch.Size([64])\n",
            "layer1.1.bn2.num_batches_tracked \t torch.Size([])\n",
            "layer1.1.conv3.weight \t torch.Size([256, 64, 1, 1])\n",
            "layer1.1.bn3.weight \t torch.Size([256])\n",
            "layer1.1.bn3.bias \t torch.Size([256])\n",
            "layer1.1.bn3.running_mean \t torch.Size([256])\n",
            "layer1.1.bn3.running_var \t torch.Size([256])\n",
            "layer1.1.bn3.num_batches_tracked \t torch.Size([])\n",
            "layer1.2.conv1.weight \t torch.Size([64, 256, 1, 1])\n",
            "layer1.2.bn1.weight \t torch.Size([64])\n",
            "layer1.2.bn1.bias \t torch.Size([64])\n",
            "layer1.2.bn1.running_mean \t torch.Size([64])\n",
            "layer1.2.bn1.running_var \t torch.Size([64])\n",
            "layer1.2.bn1.num_batches_tracked \t torch.Size([])\n",
            "layer1.2.conv2.weight \t torch.Size([64, 64, 3, 3])\n",
            "layer1.2.bn2.weight \t torch.Size([64])\n",
            "layer1.2.bn2.bias \t torch.Size([64])\n",
            "layer1.2.bn2.running_mean \t torch.Size([64])\n",
            "layer1.2.bn2.running_var \t torch.Size([64])\n",
            "layer1.2.bn2.num_batches_tracked \t torch.Size([])\n",
            "layer1.2.conv3.weight \t torch.Size([256, 64, 1, 1])\n",
            "layer1.2.bn3.weight \t torch.Size([256])\n",
            "layer1.2.bn3.bias \t torch.Size([256])\n",
            "layer1.2.bn3.running_mean \t torch.Size([256])\n",
            "layer1.2.bn3.running_var \t torch.Size([256])\n",
            "layer1.2.bn3.num_batches_tracked \t torch.Size([])\n",
            "layer2.0.conv1.weight \t torch.Size([128, 256, 1, 1])\n",
            "layer2.0.bn1.weight \t torch.Size([128])\n",
            "layer2.0.bn1.bias \t torch.Size([128])\n",
            "layer2.0.bn1.running_mean \t torch.Size([128])\n",
            "layer2.0.bn1.running_var \t torch.Size([128])\n",
            "layer2.0.bn1.num_batches_tracked \t torch.Size([])\n",
            "layer2.0.conv2.weight \t torch.Size([128, 128, 3, 3])\n",
            "layer2.0.bn2.weight \t torch.Size([128])\n",
            "layer2.0.bn2.bias \t torch.Size([128])\n",
            "layer2.0.bn2.running_mean \t torch.Size([128])\n",
            "layer2.0.bn2.running_var \t torch.Size([128])\n",
            "layer2.0.bn2.num_batches_tracked \t torch.Size([])\n",
            "layer2.0.conv3.weight \t torch.Size([512, 128, 1, 1])\n",
            "layer2.0.bn3.weight \t torch.Size([512])\n",
            "layer2.0.bn3.bias \t torch.Size([512])\n",
            "layer2.0.bn3.running_mean \t torch.Size([512])\n",
            "layer2.0.bn3.running_var \t torch.Size([512])\n",
            "layer2.0.bn3.num_batches_tracked \t torch.Size([])\n",
            "layer2.0.downsample.0.weight \t torch.Size([512, 256, 1, 1])\n",
            "layer2.0.downsample.1.weight \t torch.Size([512])\n",
            "layer2.0.downsample.1.bias \t torch.Size([512])\n",
            "layer2.0.downsample.1.running_mean \t torch.Size([512])\n",
            "layer2.0.downsample.1.running_var \t torch.Size([512])\n",
            "layer2.0.downsample.1.num_batches_tracked \t torch.Size([])\n",
            "layer2.1.conv1.weight \t torch.Size([128, 512, 1, 1])\n",
            "layer2.1.bn1.weight \t torch.Size([128])\n",
            "layer2.1.bn1.bias \t torch.Size([128])\n",
            "layer2.1.bn1.running_mean \t torch.Size([128])\n",
            "layer2.1.bn1.running_var \t torch.Size([128])\n",
            "layer2.1.bn1.num_batches_tracked \t torch.Size([])\n",
            "layer2.1.conv2.weight \t torch.Size([128, 128, 3, 3])\n",
            "layer2.1.bn2.weight \t torch.Size([128])\n",
            "layer2.1.bn2.bias \t torch.Size([128])\n",
            "layer2.1.bn2.running_mean \t torch.Size([128])\n",
            "layer2.1.bn2.running_var \t torch.Size([128])\n",
            "layer2.1.bn2.num_batches_tracked \t torch.Size([])\n",
            "layer2.1.conv3.weight \t torch.Size([512, 128, 1, 1])\n",
            "layer2.1.bn3.weight \t torch.Size([512])\n",
            "layer2.1.bn3.bias \t torch.Size([512])\n",
            "layer2.1.bn3.running_mean \t torch.Size([512])\n",
            "layer2.1.bn3.running_var \t torch.Size([512])\n",
            "layer2.1.bn3.num_batches_tracked \t torch.Size([])\n",
            "layer2.2.conv1.weight \t torch.Size([128, 512, 1, 1])\n",
            "layer2.2.bn1.weight \t torch.Size([128])\n",
            "layer2.2.bn1.bias \t torch.Size([128])\n",
            "layer2.2.bn1.running_mean \t torch.Size([128])\n",
            "layer2.2.bn1.running_var \t torch.Size([128])\n",
            "layer2.2.bn1.num_batches_tracked \t torch.Size([])\n",
            "layer2.2.conv2.weight \t torch.Size([128, 128, 3, 3])\n",
            "layer2.2.bn2.weight \t torch.Size([128])\n",
            "layer2.2.bn2.bias \t torch.Size([128])\n",
            "layer2.2.bn2.running_mean \t torch.Size([128])\n",
            "layer2.2.bn2.running_var \t torch.Size([128])\n",
            "layer2.2.bn2.num_batches_tracked \t torch.Size([])\n",
            "layer2.2.conv3.weight \t torch.Size([512, 128, 1, 1])\n",
            "layer2.2.bn3.weight \t torch.Size([512])\n",
            "layer2.2.bn3.bias \t torch.Size([512])\n",
            "layer2.2.bn3.running_mean \t torch.Size([512])\n",
            "layer2.2.bn3.running_var \t torch.Size([512])\n",
            "layer2.2.bn3.num_batches_tracked \t torch.Size([])\n",
            "layer2.3.conv1.weight \t torch.Size([128, 512, 1, 1])\n",
            "layer2.3.bn1.weight \t torch.Size([128])\n",
            "layer2.3.bn1.bias \t torch.Size([128])\n",
            "layer2.3.bn1.running_mean \t torch.Size([128])\n",
            "layer2.3.bn1.running_var \t torch.Size([128])\n",
            "layer2.3.bn1.num_batches_tracked \t torch.Size([])\n",
            "layer2.3.conv2.weight \t torch.Size([128, 128, 3, 3])\n",
            "layer2.3.bn2.weight \t torch.Size([128])\n",
            "layer2.3.bn2.bias \t torch.Size([128])\n",
            "layer2.3.bn2.running_mean \t torch.Size([128])\n",
            "layer2.3.bn2.running_var \t torch.Size([128])\n",
            "layer2.3.bn2.num_batches_tracked \t torch.Size([])\n",
            "layer2.3.conv3.weight \t torch.Size([512, 128, 1, 1])\n",
            "layer2.3.bn3.weight \t torch.Size([512])\n",
            "layer2.3.bn3.bias \t torch.Size([512])\n",
            "layer2.3.bn3.running_mean \t torch.Size([512])\n",
            "layer2.3.bn3.running_var \t torch.Size([512])\n",
            "layer2.3.bn3.num_batches_tracked \t torch.Size([])\n",
            "layer3.0.conv1.weight \t torch.Size([256, 512, 1, 1])\n",
            "layer3.0.bn1.weight \t torch.Size([256])\n",
            "layer3.0.bn1.bias \t torch.Size([256])\n",
            "layer3.0.bn1.running_mean \t torch.Size([256])\n",
            "layer3.0.bn1.running_var \t torch.Size([256])\n",
            "layer3.0.bn1.num_batches_tracked \t torch.Size([])\n",
            "layer3.0.conv2.weight \t torch.Size([256, 256, 3, 3])\n",
            "layer3.0.bn2.weight \t torch.Size([256])\n",
            "layer3.0.bn2.bias \t torch.Size([256])\n",
            "layer3.0.bn2.running_mean \t torch.Size([256])\n",
            "layer3.0.bn2.running_var \t torch.Size([256])\n",
            "layer3.0.bn2.num_batches_tracked \t torch.Size([])\n",
            "layer3.0.conv3.weight \t torch.Size([1024, 256, 1, 1])\n",
            "layer3.0.bn3.weight \t torch.Size([1024])\n",
            "layer3.0.bn3.bias \t torch.Size([1024])\n",
            "layer3.0.bn3.running_mean \t torch.Size([1024])\n",
            "layer3.0.bn3.running_var \t torch.Size([1024])\n",
            "layer3.0.bn3.num_batches_tracked \t torch.Size([])\n",
            "layer3.0.downsample.0.weight \t torch.Size([1024, 512, 1, 1])\n",
            "layer3.0.downsample.1.weight \t torch.Size([1024])\n",
            "layer3.0.downsample.1.bias \t torch.Size([1024])\n",
            "layer3.0.downsample.1.running_mean \t torch.Size([1024])\n",
            "layer3.0.downsample.1.running_var \t torch.Size([1024])\n",
            "layer3.0.downsample.1.num_batches_tracked \t torch.Size([])\n",
            "layer3.1.conv1.weight \t torch.Size([256, 1024, 1, 1])\n",
            "layer3.1.bn1.weight \t torch.Size([256])\n",
            "layer3.1.bn1.bias \t torch.Size([256])\n",
            "layer3.1.bn1.running_mean \t torch.Size([256])\n",
            "layer3.1.bn1.running_var \t torch.Size([256])\n",
            "layer3.1.bn1.num_batches_tracked \t torch.Size([])\n",
            "layer3.1.conv2.weight \t torch.Size([256, 256, 3, 3])\n",
            "layer3.1.bn2.weight \t torch.Size([256])\n",
            "layer3.1.bn2.bias \t torch.Size([256])\n",
            "layer3.1.bn2.running_mean \t torch.Size([256])\n",
            "layer3.1.bn2.running_var \t torch.Size([256])\n",
            "layer3.1.bn2.num_batches_tracked \t torch.Size([])\n",
            "layer3.1.conv3.weight \t torch.Size([1024, 256, 1, 1])\n",
            "layer3.1.bn3.weight \t torch.Size([1024])\n",
            "layer3.1.bn3.bias \t torch.Size([1024])\n",
            "layer3.1.bn3.running_mean \t torch.Size([1024])\n",
            "layer3.1.bn3.running_var \t torch.Size([1024])\n",
            "layer3.1.bn3.num_batches_tracked \t torch.Size([])\n",
            "layer3.2.conv1.weight \t torch.Size([256, 1024, 1, 1])\n",
            "layer3.2.bn1.weight \t torch.Size([256])\n",
            "layer3.2.bn1.bias \t torch.Size([256])\n",
            "layer3.2.bn1.running_mean \t torch.Size([256])\n",
            "layer3.2.bn1.running_var \t torch.Size([256])\n",
            "layer3.2.bn1.num_batches_tracked \t torch.Size([])\n",
            "layer3.2.conv2.weight \t torch.Size([256, 256, 3, 3])\n",
            "layer3.2.bn2.weight \t torch.Size([256])\n",
            "layer3.2.bn2.bias \t torch.Size([256])\n",
            "layer3.2.bn2.running_mean \t torch.Size([256])\n",
            "layer3.2.bn2.running_var \t torch.Size([256])\n",
            "layer3.2.bn2.num_batches_tracked \t torch.Size([])\n",
            "layer3.2.conv3.weight \t torch.Size([1024, 256, 1, 1])\n",
            "layer3.2.bn3.weight \t torch.Size([1024])\n",
            "layer3.2.bn3.bias \t torch.Size([1024])\n",
            "layer3.2.bn3.running_mean \t torch.Size([1024])\n",
            "layer3.2.bn3.running_var \t torch.Size([1024])\n",
            "layer3.2.bn3.num_batches_tracked \t torch.Size([])\n",
            "layer3.3.conv1.weight \t torch.Size([256, 1024, 1, 1])\n",
            "layer3.3.bn1.weight \t torch.Size([256])\n",
            "layer3.3.bn1.bias \t torch.Size([256])\n",
            "layer3.3.bn1.running_mean \t torch.Size([256])\n",
            "layer3.3.bn1.running_var \t torch.Size([256])\n",
            "layer3.3.bn1.num_batches_tracked \t torch.Size([])\n",
            "layer3.3.conv2.weight \t torch.Size([256, 256, 3, 3])\n",
            "layer3.3.bn2.weight \t torch.Size([256])\n",
            "layer3.3.bn2.bias \t torch.Size([256])\n",
            "layer3.3.bn2.running_mean \t torch.Size([256])\n",
            "layer3.3.bn2.running_var \t torch.Size([256])\n",
            "layer3.3.bn2.num_batches_tracked \t torch.Size([])\n",
            "layer3.3.conv3.weight \t torch.Size([1024, 256, 1, 1])\n",
            "layer3.3.bn3.weight \t torch.Size([1024])\n",
            "layer3.3.bn3.bias \t torch.Size([1024])\n",
            "layer3.3.bn3.running_mean \t torch.Size([1024])\n",
            "layer3.3.bn3.running_var \t torch.Size([1024])\n",
            "layer3.3.bn3.num_batches_tracked \t torch.Size([])\n",
            "layer3.4.conv1.weight \t torch.Size([256, 1024, 1, 1])\n",
            "layer3.4.bn1.weight \t torch.Size([256])\n",
            "layer3.4.bn1.bias \t torch.Size([256])\n",
            "layer3.4.bn1.running_mean \t torch.Size([256])\n",
            "layer3.4.bn1.running_var \t torch.Size([256])\n",
            "layer3.4.bn1.num_batches_tracked \t torch.Size([])\n",
            "layer3.4.conv2.weight \t torch.Size([256, 256, 3, 3])\n",
            "layer3.4.bn2.weight \t torch.Size([256])\n",
            "layer3.4.bn2.bias \t torch.Size([256])\n",
            "layer3.4.bn2.running_mean \t torch.Size([256])\n",
            "layer3.4.bn2.running_var \t torch.Size([256])\n",
            "layer3.4.bn2.num_batches_tracked \t torch.Size([])\n",
            "layer3.4.conv3.weight \t torch.Size([1024, 256, 1, 1])\n",
            "layer3.4.bn3.weight \t torch.Size([1024])\n",
            "layer3.4.bn3.bias \t torch.Size([1024])\n",
            "layer3.4.bn3.running_mean \t torch.Size([1024])\n",
            "layer3.4.bn3.running_var \t torch.Size([1024])\n",
            "layer3.4.bn3.num_batches_tracked \t torch.Size([])\n",
            "layer3.5.conv1.weight \t torch.Size([256, 1024, 1, 1])\n",
            "layer3.5.bn1.weight \t torch.Size([256])\n",
            "layer3.5.bn1.bias \t torch.Size([256])\n",
            "layer3.5.bn1.running_mean \t torch.Size([256])\n",
            "layer3.5.bn1.running_var \t torch.Size([256])\n",
            "layer3.5.bn1.num_batches_tracked \t torch.Size([])\n",
            "layer3.5.conv2.weight \t torch.Size([256, 256, 3, 3])\n",
            "layer3.5.bn2.weight \t torch.Size([256])\n",
            "layer3.5.bn2.bias \t torch.Size([256])\n",
            "layer3.5.bn2.running_mean \t torch.Size([256])\n",
            "layer3.5.bn2.running_var \t torch.Size([256])\n",
            "layer3.5.bn2.num_batches_tracked \t torch.Size([])\n",
            "layer3.5.conv3.weight \t torch.Size([1024, 256, 1, 1])\n",
            "layer3.5.bn3.weight \t torch.Size([1024])\n",
            "layer3.5.bn3.bias \t torch.Size([1024])\n",
            "layer3.5.bn3.running_mean \t torch.Size([1024])\n",
            "layer3.5.bn3.running_var \t torch.Size([1024])\n",
            "layer3.5.bn3.num_batches_tracked \t torch.Size([])\n",
            "layer4.0.conv1.weight \t torch.Size([512, 1024, 1, 1])\n",
            "layer4.0.bn1.weight \t torch.Size([512])\n",
            "layer4.0.bn1.bias \t torch.Size([512])\n",
            "layer4.0.bn1.running_mean \t torch.Size([512])\n",
            "layer4.0.bn1.running_var \t torch.Size([512])\n",
            "layer4.0.bn1.num_batches_tracked \t torch.Size([])\n",
            "layer4.0.conv2.weight \t torch.Size([512, 512, 3, 3])\n",
            "layer4.0.bn2.weight \t torch.Size([512])\n",
            "layer4.0.bn2.bias \t torch.Size([512])\n",
            "layer4.0.bn2.running_mean \t torch.Size([512])\n",
            "layer4.0.bn2.running_var \t torch.Size([512])\n",
            "layer4.0.bn2.num_batches_tracked \t torch.Size([])\n",
            "layer4.0.conv3.weight \t torch.Size([2048, 512, 1, 1])\n",
            "layer4.0.bn3.weight \t torch.Size([2048])\n",
            "layer4.0.bn3.bias \t torch.Size([2048])\n",
            "layer4.0.bn3.running_mean \t torch.Size([2048])\n",
            "layer4.0.bn3.running_var \t torch.Size([2048])\n",
            "layer4.0.bn3.num_batches_tracked \t torch.Size([])\n",
            "layer4.0.downsample.0.weight \t torch.Size([2048, 1024, 1, 1])\n",
            "layer4.0.downsample.1.weight \t torch.Size([2048])\n",
            "layer4.0.downsample.1.bias \t torch.Size([2048])\n",
            "layer4.0.downsample.1.running_mean \t torch.Size([2048])\n",
            "layer4.0.downsample.1.running_var \t torch.Size([2048])\n",
            "layer4.0.downsample.1.num_batches_tracked \t torch.Size([])\n",
            "layer4.1.conv1.weight \t torch.Size([512, 2048, 1, 1])\n",
            "layer4.1.bn1.weight \t torch.Size([512])\n",
            "layer4.1.bn1.bias \t torch.Size([512])\n",
            "layer4.1.bn1.running_mean \t torch.Size([512])\n",
            "layer4.1.bn1.running_var \t torch.Size([512])\n",
            "layer4.1.bn1.num_batches_tracked \t torch.Size([])\n",
            "layer4.1.conv2.weight \t torch.Size([512, 512, 3, 3])\n",
            "layer4.1.bn2.weight \t torch.Size([512])\n",
            "layer4.1.bn2.bias \t torch.Size([512])\n",
            "layer4.1.bn2.running_mean \t torch.Size([512])\n",
            "layer4.1.bn2.running_var \t torch.Size([512])\n",
            "layer4.1.bn2.num_batches_tracked \t torch.Size([])\n",
            "layer4.1.conv3.weight \t torch.Size([2048, 512, 1, 1])\n",
            "layer4.1.bn3.weight \t torch.Size([2048])\n",
            "layer4.1.bn3.bias \t torch.Size([2048])\n",
            "layer4.1.bn3.running_mean \t torch.Size([2048])\n",
            "layer4.1.bn3.running_var \t torch.Size([2048])\n",
            "layer4.1.bn3.num_batches_tracked \t torch.Size([])\n",
            "layer4.2.conv1.weight \t torch.Size([512, 2048, 1, 1])\n",
            "layer4.2.bn1.weight \t torch.Size([512])\n",
            "layer4.2.bn1.bias \t torch.Size([512])\n",
            "layer4.2.bn1.running_mean \t torch.Size([512])\n",
            "layer4.2.bn1.running_var \t torch.Size([512])\n",
            "layer4.2.bn1.num_batches_tracked \t torch.Size([])\n",
            "layer4.2.conv2.weight \t torch.Size([512, 512, 3, 3])\n",
            "layer4.2.bn2.weight \t torch.Size([512])\n",
            "layer4.2.bn2.bias \t torch.Size([512])\n",
            "layer4.2.bn2.running_mean \t torch.Size([512])\n",
            "layer4.2.bn2.running_var \t torch.Size([512])\n",
            "layer4.2.bn2.num_batches_tracked \t torch.Size([])\n",
            "layer4.2.conv3.weight \t torch.Size([2048, 512, 1, 1])\n",
            "layer4.2.bn3.weight \t torch.Size([2048])\n",
            "layer4.2.bn3.bias \t torch.Size([2048])\n",
            "layer4.2.bn3.running_mean \t torch.Size([2048])\n",
            "layer4.2.bn3.running_var \t torch.Size([2048])\n",
            "layer4.2.bn3.num_batches_tracked \t torch.Size([])\n",
            "fc.weight \t torch.Size([2, 2048])\n",
            "fc.bias \t torch.Size([2])\n",
            "Optimizer's state_dict:\n",
            "state \t {}\n",
            "param_groups \t [{'lr': 0.001, 'betas': (0.9, 0.999), 'eps': 1e-08, 'weight_decay': 0, 'amsgrad': False, 'initial_lr': 0.001, 'params': [0, 1, 2, 3, 4, 5, 6, 7, 8, 9, 10, 11, 12, 13, 14, 15, 16, 17, 18, 19, 20, 21, 22, 23, 24, 25, 26, 27, 28, 29, 30, 31, 32, 33, 34, 35, 36, 37, 38, 39, 40, 41, 42, 43, 44, 45, 46, 47, 48, 49, 50, 51, 52, 53, 54, 55, 56, 57, 58, 59, 60, 61, 62, 63, 64, 65, 66, 67, 68, 69, 70, 71, 72, 73, 74, 75, 76, 77, 78, 79, 80, 81, 82, 83, 84, 85, 86, 87, 88, 89, 90, 91, 92, 93, 94, 95, 96, 97, 98, 99, 100, 101, 102, 103, 104, 105, 106, 107, 108, 109, 110, 111, 112, 113, 114, 115, 116, 117, 118, 119, 120, 121, 122, 123, 124, 125, 126, 127, 128, 129, 130, 131, 132, 133, 134, 135, 136, 137, 138, 139, 140, 141, 142, 143, 144, 145, 146, 147, 148, 149, 150, 151, 152, 153, 154, 155, 156, 157, 158, 159, 160]}]\n"
          ],
          "name": "stdout"
        }
      ]
    },
    {
      "cell_type": "code",
      "metadata": {
        "id": "9OEWVnjeIENh"
      },
      "source": [
        "import time\n",
        "import copy\n",
        "\n",
        "def train_model(model, dataloaders, criterion, optimizer, scheduler ,num_epochs=25):\n",
        "    since = time.time()\n",
        "\n",
        "    loss_history = []\n",
        "    val_loss_history = []\n",
        "    acc_history = []\n",
        "    val_acc_history = []\n",
        "\n",
        "    best_model_wts = copy.deepcopy(model.state_dict())\n",
        "    best_acc = 0.0\n",
        "\n",
        "    for epoch in range(num_epochs):\n",
        "        print('Epoch {}/{}'.format(epoch, num_epochs - 1))\n",
        "        print('===========================================================')\n",
        "\n",
        "        # Each epoch has a training and validation phase\n",
        "        for phase in ['train', 'val']:\n",
        "            if phase == 'train':\n",
        "                model.train()  # Set model to training mode\n",
        "            else:\n",
        "                model.eval()   # Set model to evaluate mode\n",
        "\n",
        "            running_loss = 0.0\n",
        "            running_corrects = 0\n",
        "\n",
        "            # Iterate over data.\n",
        "            for inputs, labels in dataloaders[phase]:\n",
        "                inputs = inputs.to(DEVICE)\n",
        "                labels = labels.to(DEVICE)\n",
        "\n",
        "                # zero the parameter gradients\n",
        "                optimizer.zero_grad()\n",
        "\n",
        "                # forward\n",
        "                # track history if only in train\n",
        "                with torch.set_grad_enabled(phase == 'train'):\n",
        "                  outputs = model(inputs)\n",
        "                  loss = criterion(outputs, labels)\n",
        "                  _, preds = torch.max(outputs, 1)\n",
        "\n",
        "                  # backward + optimize only if in training phase\n",
        "                  if phase == 'train':\n",
        "                    loss.backward()\n",
        "                    optimizer.step()\n",
        "\n",
        "                # statistics\n",
        "                running_loss += loss.item() * inputs.size(0)\n",
        "                running_corrects += torch.sum(preds == labels.data)\n",
        "\n",
        "            if phase == 'train':\n",
        "              scheduler.step()\n",
        "              l_r = [x['lr'] for x in optimizer_ft.param_groups]\n",
        "              print('learning rate: ', l_r)\n",
        "\n",
        "            epoch_loss = running_loss / dataset_sizes[phase]\n",
        "            epoch_acc = running_corrects.double() / dataset_sizes[phase]\n",
        "\n",
        "            if phase =='train':\n",
        "              loss_history.append(epoch_loss)\n",
        "              acc_history.append(epoch_acc)\n",
        "\n",
        "            if phase == 'val':\n",
        "              val_loss_history.append(epoch_loss)\n",
        "              val_acc_history.append(epoch_acc)\n",
        "\n",
        "\n",
        "            print('{} Loss: {:.4f} Acc: {:.4f}'.format(phase, epoch_loss, epoch_acc))\n",
        "\n",
        "            # deep copy the model\n",
        "            if phase == 'val' and epoch_acc > best_acc:\n",
        "              best_acc = epoch_acc\n",
        "              best_model_wts = copy.deepcopy(model.state_dict())\n",
        "            \n",
        "\n",
        "        print()\n",
        "\n",
        "    time_elapsed = time.time() - since\n",
        "    print('Training complete in {:.0f}m {:.0f}s'.format(time_elapsed // 60, time_elapsed % 60))\n",
        "    print('Best val Acc: {:4f}'.format(best_acc))\n",
        "\n",
        "    # load best model weights\n",
        "    model.load_state_dict(best_model_wts)\n",
        "\n",
        "    return model, loss_history, val_loss_history, acc_history, val_acc_history\n"
      ],
      "execution_count": null,
      "outputs": []
    },
    {
      "cell_type": "markdown",
      "metadata": {
        "id": "_-wlJtXIKwEB"
      },
      "source": [
        "# Run Training and Validation Step"
      ]
    },
    {
      "cell_type": "code",
      "metadata": {
        "colab": {
          "base_uri": "https://localhost:8080/"
        },
        "id": "2WpdsouKKvYA",
        "outputId": "f4e6094f-6e61-40ee-aa55-14dffdb11830"
      },
      "source": [
        "# Train\n",
        "model_resnet50, loss_hist, val_loss_his, acc_hist, val_acc_hist = train_model(resnet, dataloaders_dict, criterion, optimizer_ft, exp_lr_scheduler, num_epochs=EPOCH)\n",
        "\n",
        "torch.save(model_resnet50, 'CT_resnet50.pt')"
      ],
      "execution_count": null,
      "outputs": [
        {
          "output_type": "stream",
          "text": [
            "Epoch 0/29\n",
            "===========================================================\n"
          ],
          "name": "stdout"
        },
        {
          "output_type": "stream",
          "text": [
            "/usr/local/lib/python3.7/dist-packages/torch/utils/data/dataloader.py:481: UserWarning: This DataLoader will create 4 worker processes in total. Our suggested max number of worker in current system is 2, which is smaller than what this DataLoader is going to create. Please be aware that excessive worker creation might get DataLoader running slow or even freeze, lower the worker number to avoid potential slowness/freeze if necessary.\n",
            "  cpuset_checked))\n",
            "/usr/local/lib/python3.7/dist-packages/torch/nn/functional.py:718: UserWarning: Named tensors and all their associated APIs are an experimental feature and subject to change. Please do not use them for anything important until they are released as stable. (Triggered internally at  /pytorch/c10/core/TensorImpl.h:1156.)\n",
            "  return torch.max_pool2d(input, kernel_size, stride, padding, dilation, ceil_mode)\n"
          ],
          "name": "stderr"
        },
        {
          "output_type": "stream",
          "text": [
            "learning rate:  [0.001]\n",
            "train Loss: 1.0632 Acc: 0.5714\n",
            "val Loss: 1.7684 Acc: 0.5796\n",
            "\n",
            "Epoch 1/29\n",
            "===========================================================\n",
            "learning rate:  [0.001]\n",
            "train Loss: 0.5766 Acc: 0.7121\n",
            "val Loss: 7.1410 Acc: 0.7353\n",
            "\n",
            "Epoch 2/29\n",
            "===========================================================\n",
            "learning rate:  [0.001]\n",
            "train Loss: 0.5820 Acc: 0.7478\n",
            "val Loss: 0.8382 Acc: 0.7370\n",
            "\n",
            "Epoch 3/29\n",
            "===========================================================\n",
            "learning rate:  [0.001]\n",
            "train Loss: 0.4425 Acc: 0.8036\n",
            "val Loss: 0.5015 Acc: 0.8023\n",
            "\n",
            "Epoch 4/29\n",
            "===========================================================\n",
            "learning rate:  [0.001]\n",
            "train Loss: 0.3709 Acc: 0.8549\n",
            "val Loss: 0.3687 Acc: 0.8459\n",
            "\n",
            "Epoch 5/29\n",
            "===========================================================\n",
            "learning rate:  [0.001]\n",
            "train Loss: 0.2852 Acc: 0.8906\n",
            "val Loss: 0.2985 Acc: 0.8827\n",
            "\n",
            "Epoch 6/29\n",
            "===========================================================\n",
            "learning rate:  [0.0001]\n",
            "train Loss: 0.3447 Acc: 0.8281\n",
            "val Loss: 0.3923 Acc: 0.8425\n",
            "\n",
            "Epoch 7/29\n",
            "===========================================================\n",
            "learning rate:  [0.0001]\n",
            "train Loss: 0.2565 Acc: 0.8884\n",
            "val Loss: 0.3068 Acc: 0.8693\n",
            "\n",
            "Epoch 8/29\n",
            "===========================================================\n",
            "learning rate:  [0.0001]\n",
            "train Loss: 0.2024 Acc: 0.9330\n",
            "val Loss: 0.2792 Acc: 0.8878\n",
            "\n",
            "Epoch 9/29\n",
            "===========================================================\n",
            "learning rate:  [0.0001]\n",
            "train Loss: 0.2071 Acc: 0.9286\n",
            "val Loss: 0.2666 Acc: 0.9028\n",
            "\n",
            "Epoch 10/29\n",
            "===========================================================\n",
            "learning rate:  [0.0001]\n",
            "train Loss: 0.1481 Acc: 0.9531\n",
            "val Loss: 0.2580 Acc: 0.9095\n",
            "\n",
            "Epoch 11/29\n",
            "===========================================================\n",
            "learning rate:  [0.0001]\n",
            "train Loss: 0.1017 Acc: 0.9665\n",
            "val Loss: 0.2543 Acc: 0.9112\n",
            "\n",
            "Epoch 12/29\n",
            "===========================================================\n",
            "learning rate:  [0.0001]\n",
            "train Loss: 0.1099 Acc: 0.9576\n",
            "val Loss: 0.2452 Acc: 0.9112\n",
            "\n",
            "Epoch 13/29\n",
            "===========================================================\n",
            "learning rate:  [1e-05]\n",
            "train Loss: 0.0917 Acc: 0.9665\n",
            "val Loss: 0.2385 Acc: 0.9229\n",
            "\n",
            "Epoch 14/29\n",
            "===========================================================\n",
            "learning rate:  [1e-05]\n",
            "train Loss: 0.0744 Acc: 0.9754\n",
            "val Loss: 0.2380 Acc: 0.9213\n",
            "\n",
            "Epoch 15/29\n",
            "===========================================================\n",
            "learning rate:  [1e-05]\n",
            "train Loss: 0.0677 Acc: 0.9821\n",
            "val Loss: 0.2370 Acc: 0.9229\n",
            "\n",
            "Epoch 16/29\n",
            "===========================================================\n",
            "learning rate:  [1e-05]\n",
            "train Loss: 0.1017 Acc: 0.9598\n",
            "val Loss: 0.2418 Acc: 0.9263\n",
            "\n",
            "Epoch 17/29\n",
            "===========================================================\n",
            "learning rate:  [1e-05]\n",
            "train Loss: 0.0662 Acc: 0.9844\n",
            "val Loss: 0.2397 Acc: 0.9229\n",
            "\n",
            "Epoch 18/29\n",
            "===========================================================\n",
            "learning rate:  [1e-05]\n",
            "train Loss: 0.0776 Acc: 0.9754\n",
            "val Loss: 0.2423 Acc: 0.9280\n",
            "\n",
            "Epoch 19/29\n",
            "===========================================================\n",
            "learning rate:  [1e-05]\n",
            "train Loss: 0.0675 Acc: 0.9777\n",
            "val Loss: 0.2437 Acc: 0.9229\n",
            "\n",
            "Epoch 20/29\n",
            "===========================================================\n",
            "learning rate:  [1.0000000000000002e-06]\n",
            "train Loss: 0.0679 Acc: 0.9710\n",
            "val Loss: 0.2463 Acc: 0.9213\n",
            "\n",
            "Epoch 21/29\n",
            "===========================================================\n",
            "learning rate:  [1.0000000000000002e-06]\n",
            "train Loss: 0.0842 Acc: 0.9777\n",
            "val Loss: 0.2431 Acc: 0.9229\n",
            "\n",
            "Epoch 22/29\n",
            "===========================================================\n",
            "learning rate:  [1.0000000000000002e-06]\n",
            "train Loss: 0.0642 Acc: 0.9844\n",
            "val Loss: 0.2411 Acc: 0.9263\n",
            "\n",
            "Epoch 23/29\n",
            "===========================================================\n",
            "learning rate:  [1.0000000000000002e-06]\n",
            "train Loss: 0.0951 Acc: 0.9688\n",
            "val Loss: 0.2397 Acc: 0.9246\n",
            "\n",
            "Epoch 24/29\n",
            "===========================================================\n",
            "learning rate:  [1.0000000000000002e-06]\n",
            "train Loss: 0.0563 Acc: 0.9844\n",
            "val Loss: 0.2451 Acc: 0.9213\n",
            "\n",
            "Epoch 25/29\n",
            "===========================================================\n",
            "learning rate:  [1.0000000000000002e-06]\n",
            "train Loss: 0.0634 Acc: 0.9777\n",
            "val Loss: 0.2415 Acc: 0.9246\n",
            "\n",
            "Epoch 26/29\n",
            "===========================================================\n",
            "learning rate:  [1.0000000000000002e-06]\n",
            "train Loss: 0.0543 Acc: 0.9821\n",
            "val Loss: 0.2426 Acc: 0.9246\n",
            "\n",
            "Epoch 27/29\n",
            "===========================================================\n",
            "learning rate:  [1.0000000000000002e-07]\n",
            "train Loss: 0.0423 Acc: 0.9888\n",
            "val Loss: 0.2411 Acc: 0.9229\n",
            "\n",
            "Epoch 28/29\n",
            "===========================================================\n",
            "learning rate:  [1.0000000000000002e-07]\n",
            "train Loss: 0.0805 Acc: 0.9754\n",
            "val Loss: 0.2398 Acc: 0.9229\n",
            "\n",
            "Epoch 29/29\n",
            "===========================================================\n",
            "learning rate:  [1.0000000000000002e-07]\n",
            "train Loss: 0.0622 Acc: 0.9799\n",
            "val Loss: 0.2367 Acc: 0.9263\n",
            "\n",
            "Training complete in 4m 50s\n",
            "Best val Acc: 0.927973\n"
          ],
          "name": "stdout"
        }
      ]
    },
    {
      "cell_type": "code",
      "metadata": {
        "colab": {
          "base_uri": "https://localhost:8080/"
        },
        "id": "9HLvudwcg7Vf",
        "outputId": "2b7150a5-3448-4339-9d64-afc7ebdf47e4"
      },
      "source": [
        "print(loss_hist)"
      ],
      "execution_count": null,
      "outputs": [
        {
          "output_type": "stream",
          "text": [
            "[1.063152402639389, 0.5765546560287476, 0.5820353350469044, 0.4424759362425123, 0.37086410926921026, 0.2851668468543461, 0.34469409340194296, 0.2564744587455477, 0.20240259915590286, 0.20714327480111802, 0.14808550955993788, 0.10167584115905422, 0.10985622022833143, 0.09174754470586777, 0.07438418881169387, 0.06768159508439046, 0.10165064249719892, 0.06618278633270945, 0.07763611232595784, 0.0675206407904625, 0.06793915240892343, 0.08424357138574123, 0.0642445416056684, 0.09508785831608943, 0.05625110532024077, 0.06339883944019675, 0.05427566037646362, 0.04228510880576713, 0.0804724231628435, 0.062231547598327906]\n"
          ],
          "name": "stdout"
        }
      ]
    },
    {
      "cell_type": "code",
      "metadata": {
        "colab": {
          "base_uri": "https://localhost:8080/",
          "height": 766
        },
        "id": "8tmMMsCkLkb8",
        "outputId": "7ed2f6b0-c9bc-45de-d3af-cb0896cd687e"
      },
      "source": [
        "# Plotting\n",
        "import matplotlib.pyplot as plt\n",
        "import numpy as np\n",
        "'''\n",
        "resnet_loss_hist = []\n",
        "resnet_val_loss_hist = []\n",
        "resnet_acc_hist = []\n",
        "resnet_val_acc_hist = []\n",
        "\n",
        "resnet_loss_hist = [h.cpu().numpy() for h in loss_hist]\n",
        "resnet_val_loss_hist = [h.cpu().numpy() for h in val_loss_hist]\n",
        "resnet_acc_hist = [h.cpu().numpy() for h in acc_hist]\n",
        "resnet_val_acc_hist = [h.cpu().numpy() for h in val_acc_hist]\n",
        "'''\n",
        "plt.figure(figsize=[20,20])\n",
        "plt.subplot(2, 1, 1)\n",
        "plt.title(\"Accuracy vs. Number of Training Epochs\")\n",
        "plt.xlabel(\"Epochs\")\n",
        "plt.ylabel(\"Accuracy\")\n",
        "plt.plot(range(1,EPOCH+1),acc_hist,label=\"Accuracy\")\n",
        "plt.plot(range(1,EPOCH+1),val_acc_hist,label=\"Validation Accuracy\")\n",
        "plt.ylim((0,1.))\n",
        "plt.xticks(np.arange(1, EPOCH+1, 1.0))\n",
        "plt.legend()\n",
        "\n",
        "plt.subplot(2, 1, 2)  \n",
        "plt.title(\"Loss vs. Number of Training Epochs\")\n",
        "plt.xlabel(\"Epochs\")\n",
        "plt.ylabel(\"Loss\")\n",
        "plt.plot(range(1,EPOCH+1),loss_hist,label=\"Loss\")\n",
        "plt.plot(range(1,EPOCH+1),val_loss_his,label=\"Validation Loss\")\n",
        "plt.ylim((0,1.))\n",
        "plt.xticks(np.arange(1, EPOCH+1, 1.0))\n",
        "plt.legend()\n",
        "\n",
        "plt.show()\n"
      ],
      "execution_count": null,
      "outputs": [
        {
          "output_type": "display_data",
          "data": {
            "image/png": "[encoded data removed]",
            "text/plain": [
              "<Figure size 1440x1440 with 2 Axes>"
            ]
          },
          "metadata": {
            "needs_background": "light"
          }
        }
      ]
    },
    {
      "cell_type": "markdown",
      "metadata": {
        "id": "d2J1lTByOL3w"
      },
      "source": [
        "# Evaluation"
      ]
    },
    {
      "cell_type": "code",
      "metadata": {
        "id": "VGnAfuhUOKal"
      },
      "source": [
        "def evaluate(model, test_loader):\n",
        "  model.eval()\n",
        "  test_loss = 0\n",
        "  correct = 0\n",
        "\n",
        "  # 평가 단계에서는 parameter update 중단\n",
        "  with torch.no_grad():\n",
        "    for data, target in test_loader:\n",
        "      data, target = data.to(DEVICE), target.to(DEVICE)\n",
        "      output = model(data)\n",
        "\n",
        "      # output(예측값)과 target 사이의 loss 계산\n",
        "      test_loss += F.cross_entropy(output, target, reduction='sum').item()\n",
        "\n",
        "      # 가장 높은 확률값을 가진 인덱스를 pred로 저장\n",
        "      pred = output.max(1, keepdim=True)[1]\n",
        "      # pred와 target이 일치하면 1, 일치하지 않으면 0을 반환. (view_as()를 통해 pred, target tensor를 같은 모양으로 정렬)\n",
        "      correct += pred.eq(target.view_as(pred)).sum().item()\n",
        "\n",
        "  test_loss /= len(test_loader.dataset)\n",
        "  test_accuracy = 100. * correct / len(test_loader.dataset)\n",
        "\n",
        "  return test_loss, test_accuracy\n"
      ],
      "execution_count": null,
      "outputs": []
    },
    {
      "cell_type": "code",
      "metadata": {
        "colab": {
          "base_uri": "https://localhost:8080/"
        },
        "id": "cZLZ_V-mMUdy",
        "outputId": "ffec9da4-5144-4f5c-9cb7-53fd8b4ea91e"
      },
      "source": [
        "\n",
        "testset = ImageFolder(root= '/content/gdrive/MyDrive/WISET/CTdata/Splitted/test', transform = resnet_trans['val'])\n",
        "test_dataloader = torch.utils.data.DataLoader(testset, batch_size=BATCH_SIZE, shuffle=True, num_workers=4)\n",
        "\n",
        "resnet50 = torch.load('CT_resnet50.pt')\n",
        "resnet50.eval()\n",
        "test_loss, test_accuracy = evaluate(resnet50, test_dataloader)\n",
        "\n",
        "print('test acc: ', test_accuracy)"
      ],
      "execution_count": null,
      "outputs": [
        {
          "output_type": "stream",
          "text": [
            "/usr/local/lib/python3.7/dist-packages/torch/utils/data/dataloader.py:481: UserWarning: This DataLoader will create 4 worker processes in total. Our suggested max number of worker in current system is 2, which is smaller than what this DataLoader is going to create. Please be aware that excessive worker creation might get DataLoader running slow or even freeze, lower the worker number to avoid potential slowness/freeze if necessary.\n",
            "  cpuset_checked))\n"
          ],
          "name": "stderr"
        },
        {
          "output_type": "stream",
          "text": [
            "test acc:  93.28859060402685\n"
          ],
          "name": "stdout"
        }
      ]
    },
    {
      "cell_type": "code",
      "metadata": {
        "colab": {
          "base_uri": "https://localhost:8080/"
        },
        "id": "ss2RiImAG3-y",
        "outputId": "27f7cef7-42a4-4024-adf4-33f7b74c8121"
      },
      "source": [
        "import skimage\n",
        "\n",
        "for batch_index, (data, target) in enumerate(dataloaders_dict['train']):\n",
        "  img = data.numpy()\n",
        "\n",
        "print(img.shape)\n",
        "plt.figure(figsize=(500,500))\n",
        "skimage.io.imshow(img[0,1,:,:])\n",
        "#for i in range(9):\n",
        "#  skimage.io.imshow(img[i,1,:,:])"
      ],
      "execution_count": null,
      "outputs": [
        {
          "output_type": "stream",
          "text": [
            "/usr/local/lib/python3.7/dist-packages/torch/utils/data/dataloader.py:481: UserWarning: This DataLoader will create 4 worker processes in total. Our suggested max number of worker in current system is 2, which is smaller than what this DataLoader is going to create. Please be aware that excessive worker creation might get DataLoader running slow or even freeze, lower the worker number to avoid potential slowness/freeze if necessary.\n",
            "  cpuset_checked))\n"
          ],
          "name": "stderr"
        },
        {
          "output_type": "stream",
          "text": [
            "(32, 3, 64, 64)\n"
          ],
          "name": "stdout"
        }
      ]
    },
    {
      "cell_type": "code",
      "metadata": {
        "id": "nWqp7W21RdjL",
        "colab": {
          "base_uri": "https://localhost:8080/",
          "height": 232
        },
        "outputId": "c47a5a75-3d4f-4d9b-f79e-5ecf583884af"
      },
      "source": [
        "\n",
        "\n",
        "i = 0\n",
        "for batch_idx, (inputs, targets) in enumerate(dataloaders_dict['train']): \n",
        "    img = inputs / 2 +0.5   # unnormalize\n",
        "    npimg = img.numpy()\n",
        "    plt.figure(figsize=(100,100))\n",
        "    plt.subplot(14,1,i+1)\n",
        "    plt.xticks([])\n",
        "    plt.yticks([])\n",
        "    plt.grid(False)\n",
        "    plt.imshow(np.transpose(npimg[i], (1, 2, 0)), cmap=plt.cm.gray)\n",
        "    # labels\n",
        "    plt.title(' '.join('%6s' % class_names[targets[i]] ))\n",
        "    i = i+1\n",
        "\n",
        "\n",
        "plt.show()\n",
        "\n",
        "\n",
        "\n",
        "\n",
        "\n",
        "\n",
        "\n",
        "\n"
      ],
      "execution_count": null,
      "outputs": [
        {
          "output_type": "error",
          "ename": "NameError",
          "evalue": "ignored",
          "traceback": [
            "\u001b[0;31m---------------------------------------------------------------------------\u001b[0m",
            "\u001b[0;31mNameError\u001b[0m                                 Traceback (most recent call last)",
            "\u001b[0;32m<ipython-input-1-457711f4b340>\u001b[0m in \u001b[0;36m<module>\u001b[0;34m()\u001b[0m\n\u001b[1;32m      2\u001b[0m \u001b[0;34m\u001b[0m\u001b[0m\n\u001b[1;32m      3\u001b[0m \u001b[0mi\u001b[0m \u001b[0;34m=\u001b[0m \u001b[0;36m0\u001b[0m\u001b[0;34m\u001b[0m\u001b[0;34m\u001b[0m\u001b[0m\n\u001b[0;32m----> 4\u001b[0;31m \u001b[0;32mfor\u001b[0m \u001b[0mbatch_idx\u001b[0m\u001b[0;34m,\u001b[0m \u001b[0;34m(\u001b[0m\u001b[0minputs\u001b[0m\u001b[0;34m,\u001b[0m \u001b[0mtargets\u001b[0m\u001b[0;34m)\u001b[0m \u001b[0;32min\u001b[0m \u001b[0menumerate\u001b[0m\u001b[0;34m(\u001b[0m\u001b[0mdataloaders_dict\u001b[0m\u001b[0;34m[\u001b[0m\u001b[0;34m'train'\u001b[0m\u001b[0;34m]\u001b[0m\u001b[0;34m)\u001b[0m\u001b[0;34m:\u001b[0m\u001b[0;34m\u001b[0m\u001b[0;34m\u001b[0m\u001b[0m\n\u001b[0m\u001b[1;32m      5\u001b[0m     \u001b[0mimg\u001b[0m \u001b[0;34m=\u001b[0m \u001b[0minputs\u001b[0m \u001b[0;34m/\u001b[0m \u001b[0;36m2\u001b[0m \u001b[0;34m+\u001b[0m\u001b[0;36m0.5\u001b[0m   \u001b[0;31m# unnormalize\u001b[0m\u001b[0;34m\u001b[0m\u001b[0;34m\u001b[0m\u001b[0m\n\u001b[1;32m      6\u001b[0m     \u001b[0mnpimg\u001b[0m \u001b[0;34m=\u001b[0m \u001b[0mimg\u001b[0m\u001b[0;34m.\u001b[0m\u001b[0mnumpy\u001b[0m\u001b[0;34m(\u001b[0m\u001b[0;34m)\u001b[0m\u001b[0;34m\u001b[0m\u001b[0;34m\u001b[0m\u001b[0m\n",
            "\u001b[0;31mNameError\u001b[0m: name 'dataloaders_dict' is not defined"
          ]
        }
      ]
    }
  ]
}
